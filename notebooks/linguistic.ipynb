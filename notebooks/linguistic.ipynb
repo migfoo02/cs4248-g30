{
 "cells": [
  {
   "cell_type": "markdown",
   "id": "9efab651-b4ab-472e-bc7c-83a57db2b19a",
   "metadata": {},
   "source": [
    "## TODO ##\n",
    "- preprocessing\n",
    "- add other features (Semantic imbalance rate (SIR))\n",
    "https://www.researchgate.net/publication/278658179_Sarcasm_Detection_in_Social_Media_Based_on_Imbalanced_Classification?enrichId=rgreq-23021dd258928a239481d35c9a8f951a-XXX&enrichSource=Y292ZXJQYWdlOzI3ODY1ODE3OTtBUzo3MDk3NzMxMTY4MzM3OTNAMTU0NjIzNDUwNjM0Mg%3D%3D&el=1_x_3"
   ]
  },
  {
   "cell_type": "markdown",
   "id": "a39250be-dd85-4030-8fb9-0fa9ee22eca2",
   "metadata": {},
   "source": [
    "#### Import Packages ####"
   ]
  },
  {
   "cell_type": "code",
   "execution_count": 12,
   "id": "afc8cb1d-cac2-44fd-8cd7-4179efd8ed01",
   "metadata": {},
   "outputs": [
    {
     "name": "stdout",
     "output_type": "stream",
     "text": [
      "Collecting syllapy\n",
      "  Downloading syllapy-0.7.2-py3-none-any.whl.metadata (854 bytes)\n",
      "Downloading syllapy-0.7.2-py3-none-any.whl (24 kB)\n",
      "Installing collected packages: syllapy\n",
      "Successfully installed syllapy-0.7.2\n"
     ]
    }
   ],
   "source": [
    "!pip install syllapy"
   ]
  },
  {
   "cell_type": "code",
   "execution_count": 50,
   "id": "4e7cab2f-d6e8-4945-ad4b-e2cddb18e1ad",
   "metadata": {},
   "outputs": [],
   "source": [
    "import time\n",
    "import json\n",
    "import numpy as np\n",
    "import math\n",
    "import pandas as pd\n",
    "import spacy\n",
    "import syllapy\n",
    "\n",
    "import nltk\n",
    "from nltk.tokenize import word_tokenize\n",
    "from nltk.corpus import stopwords, words\n",
    "from nltk import pos_tag, FreqDist\n",
    "\n",
    "from sklearn.metrics import accuracy_score\n",
    "from sklearn.metrics import f1_score\n",
    "from sklearn.model_selection import train_test_split\n",
    "from sklearn.preprocessing import FunctionTransformer\n",
    "from sklearn.pipeline import make_pipeline\n",
    "from sklearn.linear_model import LogisticRegression\n",
    "\n",
    "from sklearn.tree import DecisionTreeClassifier, plot_tree\n",
    "import matplotlib.pyplot as plt\n",
    "\n",
    "from sklearn.model_selection import cross_val_score\n",
    "from sklearn.dummy import DummyClassifier"
   ]
  },
  {
   "cell_type": "markdown",
   "id": "a6184aaa-e33d-4eec-9fe9-e59b2c2cca27",
   "metadata": {},
   "source": [
    "#### Load the headlines + Splitting ####"
   ]
  },
  {
   "cell_type": "code",
   "execution_count": 51,
   "id": "33c5207b-d41a-4148-85f4-42ff6a1600d5",
   "metadata": {},
   "outputs": [
    {
     "name": "stdout",
     "output_type": "stream",
     "text": [
      "article_link    0\n",
      "headline        0\n",
      "is_sarcastic    0\n",
      "dtype: int64\n",
      "11724\n",
      "14985\n"
     ]
    }
   ],
   "source": [
    "df = pd.read_json('./Sarcasm_Headlines_Dataset.json', lines=True)\n",
    "\n",
    "X = df['headline']\n",
    "y = df['is_sarcastic']\n",
    "X_train, X_temp, y_train, y_temp = train_test_split(X, y, test_size=0.2, random_state=15)\n",
    "X_val, X_test, y_val, y_test = train_test_split(X_temp, y_temp, test_size=0.5, random_state=15)\n",
    "\n",
    "print(df.isnull().sum())\n",
    "sarcastic_count = df[df['is_sarcastic'] == 1].shape[0]\n",
    "non_sarcastic_count = df[df['is_sarcastic'] == 0].shape[0]\n",
    "print(sarcastic_count)\n",
    "print(non_sarcastic_count)"
   ]
  },
  {
   "cell_type": "markdown",
   "id": "9cdcbf4a-01d4-478e-a1d0-a206d8a375d0",
   "metadata": {},
   "source": [
    "#### Linguistic Features Setup ####"
   ]
  },
  {
   "cell_type": "code",
   "execution_count": 11,
   "id": "b67d648c-4929-4f3b-854f-ad777aa1950c",
   "metadata": {},
   "outputs": [
    {
     "name": "stderr",
     "output_type": "stream",
     "text": [
      "[nltk_data] Downloading package punkt to\n",
      "[nltk_data]     C:\\Users\\kumch\\AppData\\Roaming\\nltk_data...\n",
      "[nltk_data]   Unzipping tokenizers\\punkt.zip.\n",
      "[nltk_data] Downloading package averaged_perceptron_tagger to\n",
      "[nltk_data]     C:\\Users\\kumch\\AppData\\Roaming\\nltk_data...\n",
      "[nltk_data]   Unzipping taggers\\averaged_perceptron_tagger.zip.\n",
      "[nltk_data] Downloading package stopwords to\n",
      "[nltk_data]     C:\\Users\\kumch\\AppData\\Roaming\\nltk_data...\n",
      "[nltk_data]   Unzipping corpora\\stopwords.zip.\n",
      "[nltk_data] Downloading package words to\n",
      "[nltk_data]     C:\\Users\\kumch\\AppData\\Roaming\\nltk_data...\n",
      "[nltk_data]   Unzipping corpora\\words.zip.\n"
     ]
    },
    {
     "data": {
      "text/plain": [
       "True"
      ]
     },
     "execution_count": 11,
     "metadata": {},
     "output_type": "execute_result"
    }
   ],
   "source": [
    "nltk.download('punkt')\n",
    "nltk.download('averaged_perceptron_tagger')\n",
    "nltk.download('stopwords')\n",
    "nltk.download('words')"
   ]
  },
  {
   "cell_type": "code",
   "execution_count": 52,
   "id": "28285cef-d5e4-4ce1-897b-c9617c5bf802",
   "metadata": {},
   "outputs": [],
   "source": [
    "stop_words = set(stopwords.words('english'))\n",
    "correct_words = set(words.words())\n",
    "# Dummy Dale-Chall easy words list — replace with actual file if needed\n",
    "dale_chall_easy_words = set([\"a\", \"able\", \"about\", \"above\", \"accept\", \"accident\", \"according\", \"account\", \"across\", \"act\"])  # Expand as needed\n",
    "\n",
    "nlp = spacy.load(\"en_core_web_sm\")\n",
    "\n",
    "def flesch_reading_ease(avg_sent_len, avg_syll_per_word):\n",
    "    return 206.835 - (1.015 * avg_sent_len) - (84.6 * avg_syll_per_word)\n",
    "\n",
    "def dale_chall_score(percent_difficult, avg_sent_len):\n",
    "    return 0.1579 * percent_difficult + 0.0496 * avg_sent_len"
   ]
  },
  {
   "cell_type": "code",
   "execution_count": 53,
   "id": "321f012d-977c-466a-83dc-9d824d3a0100",
   "metadata": {},
   "outputs": [],
   "source": [
    "def extract_features(X):\n",
    "    features = []\n",
    "\n",
    "    for headline in X:\n",
    "        doc = nlp(headline) # already in lowercase\n",
    "        tokens = word_tokenize(headline)\n",
    "        total_words = len(tokens)\n",
    "        if total_words == 0:\n",
    "            features.append([0]*13)\n",
    "            continue\n",
    "\n",
    "        unique_words = len(set(tokens))\n",
    "        fdist = FreqDist(tokens)\n",
    "        word_freq = np.array(list(fdist.values())) / total_words\n",
    "\n",
    "        # Feature calculations\n",
    "        entropy = -np.sum([p * math.log2(p) for p in word_freq])\n",
    "        lexical_diversity = unique_words / total_words\n",
    "\n",
    "        # Dale-Chall & Flesch\n",
    "        difficult_words = [w for w in tokens if w not in dale_chall_easy_words]\n",
    "        percent_difficult = len(difficult_words) / total_words\n",
    "        avg_sentence_len = total_words / max(1, len(list(doc.sents)))\n",
    "        avg_syllables_per_word = np.mean([syllapy.count(w) for w in tokens if w.isalpha()])\n",
    "        dale_score = dale_chall_score(percent_difficult, avg_sentence_len)\n",
    "        flesch_score = flesch_reading_ease(avg_sentence_len, avg_syllables_per_word)\n",
    "\n",
    "        # Stop words\n",
    "        stopword_count = sum(1 for w in tokens if w in stop_words)\n",
    "\n",
    "        # Wrong words (not in nltk words list)\n",
    "        wrong_word_count = sum(1 for w in tokens if w.isalpha() and w not in correct_words)\n",
    "\n",
    "        # Lengthy (≥2 syllables)\n",
    "        lengthy_word_count = sum(1 for w in tokens if syllapy.count(w) >= 2)\n",
    "\n",
    "        # 2-letter & 1-letter words\n",
    "        two_letter_words = sum(1 for w in tokens if len(w) == 2)\n",
    "        one_letter_words = sum(1 for w in tokens if len(w) == 1)\n",
    "\n",
    "        # POS tags\n",
    "        verbs = sum(1 for token in doc if token.pos_ == \"VERB\")\n",
    "        adjectives = sum(1 for token in doc if token.pos_ == \"ADJ\")\n",
    "        nouns = sum(1 for token in doc if token.pos_ == \"NOUN\")\n",
    "\n",
    "        features.append([\n",
    "            entropy,                 # 1\n",
    "            lexical_diversity,      # 2\n",
    "            dale_score,             # 3\n",
    "            flesch_score,           # 4\n",
    "            stopword_count,         # 5\n",
    "            wrong_word_count,       # 6\n",
    "            len(difficult_words),   # 7\n",
    "            lengthy_word_count,     # 8\n",
    "            two_letter_words,       # 9\n",
    "            one_letter_words,       #10\n",
    "            verbs,                  #11\n",
    "            adjectives,             #12\n",
    "            nouns                   #13\n",
    "        ])\n",
    "\n",
    "    return np.array(features)"
   ]
  },
  {
   "cell_type": "markdown",
   "id": "d6872992-b23d-48e8-8bbc-e9cb750eec28",
   "metadata": {
    "jp-MarkdownHeadingCollapsed": true
   },
   "source": [
    "#### Optimized Version ####\n",
    "#TODO: has some bugs here, after optimizing -> train on same model, F1 decrease"
   ]
  },
  {
   "cell_type": "code",
   "execution_count": 44,
   "id": "84a7b8df-a1ee-456b-bbda-67b99dbded04",
   "metadata": {},
   "outputs": [],
   "source": [
    "def extract_features(X):\n",
    "    features = []\n",
    "\n",
    "    for headline in X:\n",
    "        doc = nlp(headline)  # assume lowercase already\n",
    "        tokens = [token.text for token in doc]\n",
    "        total_words = len(tokens)\n",
    "\n",
    "        if total_words == 0:\n",
    "            features.append([0] * 13)\n",
    "            continue\n",
    "\n",
    "        unique_words = len(set(tokens))\n",
    "        fdist = FreqDist(tokens)\n",
    "        word_freq = np.array(list(fdist.values())) / total_words\n",
    "        entropy = -np.sum([p * math.log2(p) for p in word_freq])\n",
    "        lexical_diversity = unique_words / total_words\n",
    "\n",
    "        # Initialize counters\n",
    "        num_difficult = 0\n",
    "        syllable_counts = []\n",
    "        stopword_count = 0\n",
    "        wrong_word_count = 0\n",
    "        lengthy_word_count = 0\n",
    "        two_letter_words = 0\n",
    "        one_letter_words = 0\n",
    "        verbs = 0\n",
    "        adjectives = 0\n",
    "        nouns = 0\n",
    "\n",
    "        for token in doc:\n",
    "            w = token.text\n",
    "            if w.isalpha():\n",
    "                syll_count = syllapy.count(w)\n",
    "                syllable_counts.append(syll_count)\n",
    "\n",
    "                if syll_count >= 2:\n",
    "                    lengthy_word_count += 1\n",
    "\n",
    "                if w not in correct_words:\n",
    "                    wrong_word_count += 1\n",
    "\n",
    "                if w not in dale_chall_easy_words:\n",
    "                    num_difficult += 1\n",
    "\n",
    "            if token.is_stop:\n",
    "                stopword_count += 1\n",
    "\n",
    "            if len(w) == 2:\n",
    "                two_letter_words += 1\n",
    "            elif len(w) == 1:\n",
    "                one_letter_words += 1\n",
    "\n",
    "            if token.pos_ == \"VERB\":\n",
    "                verbs += 1\n",
    "            elif token.pos_ == \"ADJ\":\n",
    "                adjectives += 1\n",
    "            elif token.pos_ == \"NOUN\":\n",
    "                nouns += 1\n",
    "\n",
    "        avg_syllables_per_word = np.mean(syllable_counts)\n",
    "        avg_sentence_len = total_words / max(1, len(list(doc.sents)))\n",
    "        percent_difficult = num_difficult / total_words\n",
    "        dale_score = dale_chall_score(percent_difficult, avg_sentence_len)\n",
    "        flesch_score = flesch_reading_ease(avg_sentence_len, avg_syllables_per_word)\n",
    "\n",
    "        features.append([\n",
    "            entropy,\n",
    "            lexical_diversity,\n",
    "            dale_score,\n",
    "            flesch_score,\n",
    "            stopword_count,\n",
    "            wrong_word_count,\n",
    "            lengthy_word_count,\n",
    "            two_letter_words,\n",
    "            one_letter_words,\n",
    "            verbs,\n",
    "            adjectives,\n",
    "            nouns,\n",
    "            total_words\n",
    "        ])\n",
    "\n",
    "    return features"
   ]
  },
  {
   "cell_type": "markdown",
   "id": "4100c1f1-b4c6-473d-b5d2-fea873a996f5",
   "metadata": {},
   "source": [
    "## Models ##"
   ]
  },
  {
   "cell_type": "code",
   "execution_count": 54,
   "id": "95edaada-5e40-42cc-ab76-869c8b202aaa",
   "metadata": {},
   "outputs": [],
   "source": [
    "def train_model(model, X_train, y_train):\n",
    "    model.fit(X_train, y_train)\n",
    "\n",
    "def predict(model, X_test):\n",
    "    return model.predict(X_test)\n",
    "\n",
    "def show_metrics(model, X, y, str):\n",
    "    y_pred = predict(model, X)\n",
    "    acc = accuracy_score(y, y_pred)\n",
    "    f1score = f1_score(y, y_pred)\n",
    "    print(str)\n",
    "    print('Accuracy = {}'.format(acc))\n",
    "    print('F1 score = {}'.format(f1score))"
   ]
  },
  {
   "cell_type": "code",
   "execution_count": 55,
   "id": "2dbbd316-3c1d-4bd6-bd52-c18e56e36075",
   "metadata": {},
   "outputs": [],
   "source": [
    "linguistic_features = FunctionTransformer(extract_features)"
   ]
  },
  {
   "cell_type": "markdown",
   "id": "a05d30a8-10cc-49d1-800f-c0ea987f4216",
   "metadata": {},
   "source": [
    "#### Baseline Model ####"
   ]
  },
  {
   "cell_type": "code",
   "execution_count": 57,
   "id": "47149216-de98-4884-8097-0fa5e194b8c6",
   "metadata": {},
   "outputs": [
    {
     "name": "stdout",
     "output_type": "stream",
     "text": [
      "training set\n",
      "Accuracy = 0.5042355033462816\n",
      "F1 score = 0.43416484162170826\n",
      "validation set\n",
      "Accuracy = 0.5159116435791838\n",
      "F1 score = 0.44767193507048264\n"
     ]
    }
   ],
   "source": [
    "baseline_model = DummyClassifier(strategy='stratified', random_state=42)\n",
    "train_model(baseline_model, X_train, y_train)\n",
    "\n",
    "show_metrics(baseline_model, X_train, y_train, 'training set')\n",
    "show_metrics(baseline_model, X_val, y_val, 'validation set')"
   ]
  },
  {
   "cell_type": "markdown",
   "id": "279a9147-acd3-4ae7-a6c7-0eb7940b0e2d",
   "metadata": {},
   "source": [
    "#### Experimental Model #####"
   ]
  },
  {
   "cell_type": "code",
   "execution_count": 24,
   "id": "2e8993cf-8dc3-4c7d-8afe-53f7ce260214",
   "metadata": {},
   "outputs": [
    {
     "name": "stderr",
     "output_type": "stream",
     "text": [
      "C:\\Users\\kumch\\anaconda3\\Lib\\site-packages\\sklearn\\linear_model\\_logistic.py:458: ConvergenceWarning: lbfgs failed to converge (status=1):\n",
      "STOP: TOTAL NO. of ITERATIONS REACHED LIMIT.\n",
      "\n",
      "Increase the number of iterations (max_iter) or scale the data as shown in:\n",
      "    https://scikit-learn.org/stable/modules/preprocessing.html\n",
      "Please also refer to the documentation for alternative solver options:\n",
      "    https://scikit-learn.org/stable/modules/linear_model.html#logistic-regression\n",
      "  n_iter_i = _check_optimize_result(\n"
     ]
    },
    {
     "name": "stdout",
     "output_type": "stream",
     "text": [
      "training set\n",
      "Accuracy = 0.6926100996864324\n",
      "F1 score = 0.6354351687388987\n",
      "validation set\n",
      "Accuracy = 0.6870086110071134\n",
      "F1 score = 0.6247755834829444\n"
     ]
    }
   ],
   "source": [
    "model = make_pipeline(linguistic_features, LogisticRegression())\n",
    "train_model(model, X_train, y_train)\n",
    "\n",
    "show_metrics(model, X_train, y_train, 'training set')\n",
    "show_metrics(model, X_val, y_val, \"validation set\")"
   ]
  },
  {
   "cell_type": "code",
   "execution_count": 26,
   "id": "51f51164-6f65-4a41-b058-81870470d640",
   "metadata": {},
   "outputs": [
    {
     "name": "stdout",
     "output_type": "stream",
     "text": [
      "training set\n",
      "Accuracy = 0.9961155052183274\n",
      "F1 score = 0.9955607851526983\n",
      "validation set\n",
      "Accuracy = 0.6259827779857731\n",
      "F1 score = 0.5654632448890823\n"
     ]
    }
   ],
   "source": [
    "model2 = make_pipeline(linguistic_features, DecisionTreeClassifier(random_state=42))\n",
    "train_model(model2, X_train, y_train)\n",
    "\n",
    "show_metrics(model2, X_train, y_train, 'training set')\n",
    "show_metrics(model2, X_val, y_val, \"validation set\")"
   ]
  },
  {
   "cell_type": "code",
   "execution_count": 28,
   "id": "2454ff2c-cacf-4539-907f-685e173f80b5",
   "metadata": {},
   "outputs": [
    {
     "name": "stdout",
     "output_type": "stream",
     "text": [
      "training set\n",
      "Accuracy = 0.713998221556606\n",
      "F1 score = 0.6666302984016148\n",
      "validation set\n",
      "Accuracy = 0.6974915761886934\n",
      "F1 score = 0.6379928315412186\n"
     ]
    }
   ],
   "source": [
    "model3 = make_pipeline(linguistic_features, DecisionTreeClassifier(min_samples_split=100, max_leaf_nodes=100, random_state=42))\n",
    "train_model(model3, X_train, y_train)\n",
    "\n",
    "show_metrics(model3, X_train, y_train, 'training set')\n",
    "show_metrics(model3, X_val, y_val, \"validation set\")"
   ]
  },
  {
   "cell_type": "code",
   "execution_count": 32,
   "id": "7960d648-b9d0-4f0f-a5a2-11366e61f95f",
   "metadata": {},
   "outputs": [
    {
     "name": "stdout",
     "output_type": "stream",
     "text": [
      "training set\n",
      "Accuracy = 0.7139514204146581\n",
      "F1 score = 0.6633990527591145\n",
      "validation set\n",
      "Accuracy = 0.6974915761886934\n",
      "F1 score = 0.6347197106690777\n"
     ]
    }
   ],
   "source": [
    "model4 = make_pipeline(linguistic_features, DecisionTreeClassifier(max_depth=10, min_samples_split=50, max_leaf_nodes=100, random_state=42)) # Decision Tree\n",
    "\n",
    "train_model(model4, X_train, y_train)\n",
    "\n",
    "show_metrics(model4, X_train, y_train, 'training set')\n",
    "show_metrics(model4, X_val, y_val, \"validation set\")"
   ]
  },
  {
   "cell_type": "code",
   "execution_count": 34,
   "id": "dc51d5fd-00a3-4bcd-a088-d07093e9f53d",
   "metadata": {},
   "outputs": [
    {
     "name": "stdout",
     "output_type": "stream",
     "text": [
      "training set\n",
      "Accuracy = 0.701970328076005\n",
      "F1 score = 0.6570813139472268\n",
      "validation set\n",
      "Accuracy = 0.6821415200299513\n",
      "F1 score = 0.621826280623608\n"
     ]
    }
   ],
   "source": [
    "model5 = make_pipeline(linguistic_features, DecisionTreeClassifier(max_depth=7, min_samples_split=50, max_leaf_nodes=100, random_state=42))\n",
    "\n",
    "train_model(model5, X_train, y_train)\n",
    "\n",
    "show_metrics(model5, X_train, y_train, 'training set')\n",
    "show_metrics(model5, X_val, y_val, \"validation set\")"
   ]
  },
  {
   "cell_type": "code",
   "execution_count": 35,
   "id": "e333edca-2266-4008-8a66-64c1719f863a",
   "metadata": {},
   "outputs": [
    {
     "name": "stdout",
     "output_type": "stream",
     "text": [
      "training set\n",
      "Accuracy = 0.723966864791501\n",
      "F1 score = 0.6713839982170715\n",
      "validation set\n",
      "Accuracy = 0.6963684013478099\n",
      "F1 score = 0.6281522237505731\n"
     ]
    }
   ],
   "source": [
    "model6 = make_pipeline(linguistic_features, DecisionTreeClassifier(min_samples_split=50, max_leaf_nodes=150, random_state=42))\n",
    "\n",
    "train_model(model6, X_train, y_train)\n",
    "\n",
    "show_metrics(model6, X_train, y_train, 'training set')\n",
    "show_metrics(model6, X_val, y_val, \"validation set\")"
   ]
  },
  {
   "cell_type": "code",
   "execution_count": 47,
   "id": "87445ea6-68c5-443b-ae64-ef4eed1a5ff3",
   "metadata": {},
   "outputs": [
    {
     "name": "stdout",
     "output_type": "stream",
     "text": [
      "Training time: 65.28 seconds\n",
      "training set\n",
      "Accuracy = 0.7079140731033837\n",
      "F1 score = 0.6525636029616433\n",
      "validation set\n",
      "Accuracy = 0.6712841632347435\n",
      "F1 score = 0.605570530098832\n"
     ]
    }
   ],
   "source": [
    "linguistic_features = FunctionTransformer(extract_features)\n",
    "model6 = make_pipeline(linguistic_features, DecisionTreeClassifier(min_samples_split=50, max_leaf_nodes=150, random_state=42))\n",
    "\n",
    "start_time = time.time()\n",
    "train_model(model6, X_train, y_train)\n",
    "end_time = time.time()\n",
    "print(f\"Training time: {end_time - start_time:.2f} seconds\")\n",
    "\n",
    "\n",
    "show_metrics(model6, X_train, y_train, 'training set')\n",
    "show_metrics(model6, X_val, y_val, \"validation set\")"
   ]
  },
  {
   "cell_type": "markdown",
   "id": "a4f23113-ca22-4967-b6dd-d6bfd918326c",
   "metadata": {
    "jp-MarkdownHeadingCollapsed": true
   },
   "source": [
    "## Tree Visualization ##\n",
    "\n",
    "Current progress: can only look at first few layers\n",
    "max_depth = 3"
   ]
  },
  {
   "cell_type": "code",
   "execution_count": 49,
   "id": "8a2d93c4-1a90-4387-9e1b-fc806ae51760",
   "metadata": {},
   "outputs": [
    {
     "data": {
      "image/png": "[encoded data removed]",
      "text/plain": [
       "<Figure size 2000x1000 with 1 Axes>"
      ]
     },
     "metadata": {},
     "output_type": "display_data"
    }
   ],
   "source": [
    "dt = model6.named_steps['decisiontreeclassifier']\n",
    "\n",
    "plt.figure(figsize=(20,10))\n",
    "plot_tree(dt, filled=True, max_depth=3, feature_names=[\n",
    "    'Entropy', 'Lexical Diversity', 'Dale-Chall', 'Flesch Ease', 'Stop Words',\n",
    "    'Wrong Words', 'Difficult Words', 'Lengthy Words', 'Two-Letter Words',\n",
    "    'Single-Letter Words', 'Verbs', 'Adjectives', 'Nouns'\n",
    "])\n",
    "plt.show()"
   ]
  },
  {
   "cell_type": "markdown",
   "id": "1e879a22-7fce-45d2-a7bb-b3b1d99cd62a",
   "metadata": {
    "jp-MarkdownHeadingCollapsed": true
   },
   "source": [
    "## Cross Validation ##\n",
    "Issue: takes very long time"
   ]
  },
  {
   "cell_type": "markdown",
   "id": "c443564e-d3ba-4b4b-9396-dc45b39e4626",
   "metadata": {},
   "source": [
    "#### Data Split ####"
   ]
  },
  {
   "cell_type": "code",
   "execution_count": 37,
   "id": "ec93ab1d-c45b-4cd3-be5a-fa690d629683",
   "metadata": {},
   "outputs": [],
   "source": [
    "X = df['headline']\n",
    "y = df['is_sarcastic']\n",
    "X_train_val, X_test, y_train_val, y_test = train_test_split(X, y, test_size=0.2, random_state=42)"
   ]
  },
  {
   "cell_type": "markdown",
   "id": "93f7c4e1-bcea-443b-876b-f6eb84a563de",
   "metadata": {},
   "source": [
    "#### Define model ####"
   ]
  },
  {
   "cell_type": "code",
   "execution_count": 38,
   "id": "17bca157-bd03-4961-b10c-12195d4700cd",
   "metadata": {},
   "outputs": [
    {
     "name": "stdout",
     "output_type": "stream",
     "text": [
      "Cross-validation F1 (mean): 0.6375850500326148\n",
      "Training: 0.6485546620299935\n"
     ]
    }
   ],
   "source": [
    "linguistic_features = FunctionTransformer(extract_features)\n",
    "model = make_pipeline(linguistic_features, DecisionTreeClassifier(max_depth=10, min_samples_split=50, max_leaf_nodes=100, random_state=42))\n",
    "\n",
    "train_model(model4, X_train, y_train)\n",
    "cv_f1 = cross_val_score(model, X_train_val, y_train_val, cv=10, scoring='f1')\n",
    "print(\"Cross-validation F1 (mean):\", cv_f1.mean())\n",
    "\n",
    "train_model(model4, X_train_val, y_train_val)\n",
    "train_f1 = f1_score(y_test, predict(model, X_test))\n",
    "print(\"Training:\", train_f1)"
   ]
  },
  {
   "cell_type": "code",
   "execution_count": null,
   "id": "a4e5a137-efd9-48d8-ae51-f9602d88a078",
   "metadata": {},
   "outputs": [],
   "source": []
  }
 ],
 "metadata": {
  "kernelspec": {
   "display_name": "Python 3 (ipykernel)",
   "language": "python",
   "name": "python3"
  },
  "language_info": {
   "codemirror_mode": {
    "name": "ipython",
    "version": 3
   },
   "file_extension": ".py",
   "mimetype": "text/x-python",
   "name": "python",
   "nbconvert_exporter": "python",
   "pygments_lexer": "ipython3",
   "version": "3.11.7"
  }
 },
 "nbformat": 4,
 "nbformat_minor": 5
}
